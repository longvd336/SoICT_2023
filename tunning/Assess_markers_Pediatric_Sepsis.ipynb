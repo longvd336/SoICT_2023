version https://git-lfs.github.com/spec/v1
oid sha256:697362cdb86063fefe9f700a71e7f8142e25aaa1af45af8f3e8fcc6314175ea1
size 1064368
